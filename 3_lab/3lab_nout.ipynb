{
 "cells": [
  {
   "cell_type": "markdown",
   "metadata": {},
   "source": [
    "### Це просто змінні які мають інформацію про Тварин"
   ]
  },
  {
   "cell_type": "code",
   "execution_count": 3,
   "metadata": {},
   "outputs": [
    {
     "name": "stdout",
     "output_type": "stream",
     "text": [
      "мої тваринки записані в <class 'list'> а їх імена в <class 'list'>\n",
      "На позиції 1 знаходиться тваринка Cat з імям Васька\n"
     ]
    }
   ],
   "source": [
    "L = [\"Fish\", \"Cat\", \"Dog\"]\n",
    "Names = [\"Рибка\", \"Васька\", \"Шарік\"]\n",
    "\n",
    "print(f\"мої тваринки записані в {type(L)} а їх імена в {type(Names)}\")\n",
    "print(f\"На позиції 1 знаходиться тваринка {L[1]} з імям {Names[1]}\")"
   ]
  },
  {
   "cell_type": "markdown",
   "metadata": {},
   "source": [
    "### Працюємо з обєктами і класами для опису тварин"
   ]
  },
  {
   "cell_type": "code",
   "execution_count": 4,
   "metadata": {},
   "outputs": [
    {
     "name": "stdout",
     "output_type": "stream",
     "text": [
      "Я маю тваринку Рибка з імям Неони\n",
      "Я маю тваринку Кіт з імям Васька\n",
      "<class '__main__.MyAnimals'>\n",
      "Моя перша тваринка Рибка має імя: Неони та живе зі мною None\n",
      "Моя друга тваринка Кіт має імя: Васька\n",
      "Тваринка Рибка живе в мене 1 рік\n",
      "Тваринка Кіт живе в мене 5 рік\n"
     ]
    }
   ],
   "source": [
    "class MyAnimals:\n",
    "    def __init__(self, animal_type, name, age = None) -> None:\n",
    "        print(f\"Я маю тваринку {animal_type} з імям {name}\")\n",
    "        self.animal_type = animal_type\n",
    "        self.name = name\n",
    "        self.age = age\n",
    "\n",
    "a1 = MyAnimals(\"Рибка\", \"Неони\")\n",
    "a2 = MyAnimals(\"Кіт\", \"Васька\")\n",
    "\n",
    "print(type(a1))\n",
    "\n",
    "print(f\"Моя перша тваринка {a1.animal_type} має імя: {a1.name} та живе зі мною {a1.age}\")\n",
    "\n",
    "print(f\"Моя друга тваринка {a2.animal_type} має імя: {a2.name}\")\n",
    "\n",
    "a1.age = 1 # Це я задав динамічний атрибут\n",
    "\n",
    "[a1.age, a2.age] = [1, 5] # Це я задав динамічний атрибут зразу для двох обєктів\n",
    "\n",
    "print(f\"Тваринка {a1.animal_type} живе в мене {a1.age} рік\")\n",
    "print(f\"Тваринка {a2.animal_type} живе в мене {a2.age} рік\")"
   ]
  },
  {
   "cell_type": "markdown",
   "metadata": {},
   "source": [
    "### Методи класу - що можна робити обєкту"
   ]
  },
  {
   "cell_type": "code",
   "execution_count": 5,
   "metadata": {},
   "outputs": [
    {
     "name": "stdout",
     "output_type": "stream",
     "text": [
      "Я маю тваринку Собака з імям Шарік\n",
      "Собака каже Гавв\n",
      "Собака  має стільки ж років скільки людина 20\n",
      "Я маю тваринку Рибки з імям Неони\n",
      "Не знаєю що говорить тваринка Рибки \n",
      "Рибки не знаємо як перевести вік в 1\n"
     ]
    }
   ],
   "source": [
    "class MyAnimals:\n",
    "    def __init__(self, animal_type, name, age = None) -> None:\n",
    "        print(f\"Я маю тваринку {animal_type} з імям {name}\")\n",
    "        self.animal_type = animal_type\n",
    "        self.name = name\n",
    "        self.age = age\n",
    "    \n",
    "    def speak(self):\n",
    "        if self.animal_type == \"Кіт\":\n",
    "            return f\"{self.animal_type} каже Мяууу\"\n",
    "        elif self.animal_type == \"Собака\":\n",
    "            return f\"{self.animal_type} каже Гавв\"\n",
    "        else:\n",
    "            return f\"Не знаєю що говорить тваринка {self.animal_type} \"\n",
    "\n",
    "    def get_age_as_a_human(self):\n",
    "        ### Це видумано з голови\n",
    "        if self.animal_type == \"Кіт\":\n",
    "            return f\"{self.animal_type} має стільки ж років скільки людина {self.age * 3}\"\n",
    "        elif self.animal_type == \"Собака\":\n",
    "            return f\"{self.animal_type}  має стільки ж років скільки людина {self.age * 4}\"\n",
    "        else:\n",
    "            return f\"{self.animal_type} не знаємо як перевести вік в {self.age}\"\n",
    "\n",
    "\n",
    "a1 = MyAnimals(\"Собака\", \"Шарік\", 5)\n",
    "print(a1.speak())\n",
    "print(a1.get_age_as_a_human())\n",
    "\n",
    "a2 = MyAnimals(\"Рибки\", \"Неони\", 1)\n",
    "print(a2.speak())\n",
    "print(a2.get_age_as_a_human())"
   ]
  },
  {
   "cell_type": "markdown",
   "metadata": {},
   "source": [
    "### Додаємо змінні класу"
   ]
  },
  {
   "cell_type": "code",
   "execution_count": 7,
   "metadata": {},
   "outputs": [
    {
     "name": "stdout",
     "output_type": "stream",
     "text": [
      "Зараз в мене є такі тваринки set() та їх кількість: 0\n",
      "Я маю тваринку Собака з імям Шарік\n",
      "Я маю тваринку Собака з імям Рекс\n",
      "Я маю тваринку Рибки з імям Неони\n",
      "Я маю тваринку Рибки з імям Гупії\n",
      "Я маю тваринку Кіт з імям Муська\n",
      "Зараз в мене є такі тваринки {'Рибки', 'Собака', 'Кіт'} та їх кількість: 5\n"
     ]
    }
   ],
   "source": [
    "class MyAnimals:\n",
    "    total_animals = 0\n",
    "    my_animals = set()\n",
    "\n",
    "    def __init__(self, animal_type, name, age = None) -> None:\n",
    "        print(f\"Я маю тваринку {animal_type} з імям {name}\")\n",
    "        self.animal_type = animal_type\n",
    "        self.name = name\n",
    "        self.age = age\n",
    "        MyAnimals.total_animals += 1\n",
    "        MyAnimals.my_animals.add(animal_type)\n",
    "    \n",
    "    def speak(self):\n",
    "        if self.animal_type == \"Кіт\":\n",
    "            return f\"{self.animal_type} каже Мяууу\"\n",
    "        elif self.animal_type == \"Собака\":\n",
    "            return f\"{self.animal_type} каже Гавв\"\n",
    "        else:\n",
    "            return f\"Не знаєю що говорить тваринка {self.animal_type} \"\n",
    "\n",
    "    def get_age_as_a_human(self):\n",
    "        ### Це видумано з голови\n",
    "        if self.animal_type == \"Кіт\":\n",
    "            return f\"{self.animal_type} має стільки ж років скільки людина {self.age * 3}\"\n",
    "        elif self.animal_type == \"Собака\":\n",
    "            return f\"{self.animal_type}  має стільки ж років скільки людина {self.age * 4}\"\n",
    "        else:\n",
    "            return f\"{self.animal_type} не знаємо як перевести вік в {self.age}\"\n",
    "\n",
    "print(f\"Зараз в мене є такі тваринки {MyAnimals.my_animals} та їх кількість: {MyAnimals.total_animals}\")\n",
    "MyAnimals(\"Собака\", \"Шарік\", 5)\n",
    "MyAnimals(\"Собака\", \"Рекс\", 1)\n",
    "MyAnimals(\"Рибки\", \"Неони\", 1)\n",
    "MyAnimals(\"Рибки\", \"Гупії\", 2)\n",
    "MyAnimals(\"Кіт\", \"Муська\", 1)\n",
    "print(f\"Зараз в мене є такі тваринки {MyAnimals.my_animals} та їх кількість: {MyAnimals.total_animals}\")"
   ]
  },
  {
   "cell_type": "markdown",
   "metadata": {},
   "source": [
    "### Статичні методи та змінна self"
   ]
  },
  {
   "cell_type": "code",
   "execution_count": 8,
   "metadata": {},
   "outputs": [
    {
     "name": "stdout",
     "output_type": "stream",
     "text": [
      "Я маю Кіт, звати Муська, йому 1 років\n",
      "Я маю Кіт, звати Муська, йому 2 років\n",
      "Я викликаю статичний метод з обєкта Я кличу тваринок їсти або я можу викликати його з класу Я кличу тваринок їсти\n",
      "Я викликаю метод з обєкта Я кличу Кіт їсти, молодець Муська або я можу викликати його з класу Я кличу Кіт їсти, молодець Муська\n"
     ]
    }
   ],
   "source": [
    "class MyAnimals:\n",
    "    def __init__(self, animal_type, name, age = None) -> None:\n",
    "        self.animal_type = animal_type\n",
    "        self.name = name\n",
    "        self.age = age\n",
    "    \n",
    "    def add_year(self):\n",
    "        self.age += 1\n",
    "        return f\"Викликали метод для обєкту {self.animal_type}\"\n",
    "    \n",
    "    @staticmethod\n",
    "    def call_pets():\n",
    "        return \"Я кличу тваринок їсти\"\n",
    "    \n",
    "    def call_pet(self):\n",
    "        return f\"Я кличу {self.animal_type} їсти, молодець {self.name}\"\n",
    "\n",
    "\n",
    "a1 = MyAnimals(\"Кіт\", \"Муська\", 1)\n",
    "print(f\"Я маю {a1.animal_type}, звати {a1.name}, йому {a1.age} років\")\n",
    "a1.add_year()\n",
    "print(f\"Я маю {a1.animal_type}, звати {a1.name}, йому {a1.age} років\")\n",
    "\n",
    "print(f\"Я викликаю статичний метод з обєкта {a1.call_pets()} або я можу викликати його з класу {MyAnimals.call_pets()}\")\n",
    "\n",
    "print(f\"Я викликаю метод з обєкта {a1.call_pet()} або я можу викликати його з класу {MyAnimals.call_pet(a1)}\")"
   ]
  },
  {
   "cell_type": "markdown",
   "metadata": {},
   "source": [
    "### Робота з property"
   ]
  },
  {
   "cell_type": "code",
   "execution_count": 9,
   "metadata": {},
   "outputs": [
    {
     "name": "stdout",
     "output_type": "stream",
     "text": [
      "Мій Кіт народився в 2015 році\n",
      "Мій Собака народився в 2010 році\n"
     ]
    }
   ],
   "source": [
    "from datetime import datetime\n",
    "class MyAnimals:\n",
    "    def __init__(self, animal_type, name, age = None) -> None:\n",
    "        self.animal_type = animal_type\n",
    "        self.name = name\n",
    "        self.age = age\n",
    "    \n",
    "    @property\n",
    "    def year_of_birth(self):\n",
    "        return datetime.today().year - self.age\n",
    "\n",
    "a1 = MyAnimals(\"Кіт\", \"Муська\", 7)\n",
    "a2 = MyAnimals(\"Собака\", \"Шарік\", 12)\n",
    "print(f\"Мій {a1.animal_type} народився в {a1.year_of_birth} році\")\n",
    "print(f\"Мій {a2.animal_type} народився в {a2.year_of_birth} році\")"
   ]
  },
  {
   "cell_type": "markdown",
   "metadata": {},
   "source": [
    "### Класові методи"
   ]
  },
  {
   "cell_type": "code",
   "execution_count": 12,
   "metadata": {},
   "outputs": [
    {
     "name": "stdout",
     "output_type": "stream",
     "text": [
      "Кіт Мурка 7\n",
      "Мурка\n",
      "Васька\n"
     ]
    }
   ],
   "source": [
    "from datetime import datetime\n",
    "class MyAnimals:\n",
    "    def __init__(self, animal_type, name, age = None) -> None:\n",
    "        self.animal_type = animal_type\n",
    "        self.name = name\n",
    "        self.age = age\n",
    "\n",
    "    @classmethod\n",
    "    def obj_from_string(clc, csv_string):\n",
    "        animal_type, name, age = csv_string.split(\",\")\n",
    "        return clc(animal_type, name, age)\n",
    "\n",
    "a1 = MyAnimals(\"Кіт\", \"Муська\", 7)\n",
    "\n",
    "## animal_type, name, age -> Кіт,Мурка,7\n",
    "animal_type, name, age = \"Кіт,Мурка,7\".split(\",\")\n",
    "print(animal_type, name, age)\n",
    "a2 = MyAnimals(animal_type, name, age)\n",
    "print(a2.name)\n",
    "\n",
    "a3 = MyAnimals.obj_from_string(\"Кіт,Васька,7\")\n",
    "print(a3.name)"
   ]
  },
  {
   "cell_type": "markdown",
   "metadata": {},
   "source": [
    "### Магічні методи"
   ]
  },
  {
   "cell_type": "code",
   "execution_count": 1,
   "metadata": {},
   "outputs": [
    {
     "name": "stdout",
     "output_type": "stream",
     "text": [
      "3.0\n",
      "True\n",
      "3.0\n",
      "1.0\n",
      "10.0 буде те саме що і 10.0\n",
      "1.0\n"
     ]
    }
   ],
   "source": [
    "a = 1\n",
    "b = 2.0\n",
    "c = a + b\n",
    "print(c)\n",
    "print(isinstance(c, float))\n",
    "\n",
    "\n",
    "c = b.__add__(a)\n",
    "print(c)\n",
    "c = b.__sub__(a)\n",
    "print(c)\n",
    "c = b.__mul__(5)\n",
    "print(f\"{c} буде те саме що і {b * 5}\")\n",
    "c = b.__truediv__(2)\n",
    "print(c)"
   ]
  },
  {
   "cell_type": "code",
   "execution_count": 2,
   "metadata": {},
   "outputs": [
    {
     "name": "stdout",
     "output_type": "stream",
     "text": [
      "Імя має 5 букв\n",
      "5\n",
      "Мій Мурка подружився з Мобік\n",
      "True\n",
      "Мій Мурка покусав Мобік\n",
      "False\n"
     ]
    },
    {
     "ename": "TypeError",
     "evalue": "unsupported operand type(s) for *: 'MyAnimals' and 'MyAnimals'",
     "output_type": "error",
     "traceback": [
      "\u001b[1;31m---------------------------------------------------------------------------\u001b[0m",
      "\u001b[1;31mTypeError\u001b[0m                                 Traceback (most recent call last)",
      "\u001b[1;32me:\\lab\\bakayev-tks24\\3_lab\\3lab_nout.ipynb Ячейка 17\u001b[0m in \u001b[0;36m<cell line: 34>\u001b[1;34m()\u001b[0m\n\u001b[0;32m     <a href='vscode-notebook-cell:/e%3A/lab/bakayev-tks24/3_lab/3lab_nout.ipynb#X23sZmlsZQ%3D%3D?line=29'>30</a>\u001b[0m \u001b[39mprint\u001b[39m(a \u001b[39m+\u001b[39m b)\n\u001b[0;32m     <a href='vscode-notebook-cell:/e%3A/lab/bakayev-tks24/3_lab/3lab_nout.ipynb#X23sZmlsZQ%3D%3D?line=31'>32</a>\u001b[0m \u001b[39mprint\u001b[39m(a \u001b[39m-\u001b[39m b)\n\u001b[1;32m---> <a href='vscode-notebook-cell:/e%3A/lab/bakayev-tks24/3_lab/3lab_nout.ipynb#X23sZmlsZQ%3D%3D?line=33'>34</a>\u001b[0m a \u001b[39m*\u001b[39;49m b\n",
      "\u001b[1;31mTypeError\u001b[0m: unsupported operand type(s) for *: 'MyAnimals' and 'MyAnimals'"
     ]
    }
   ],
   "source": [
    "class MyAnimals:\n",
    "    def __init__(self, animal_type, name, age = None) -> None:\n",
    "        self.animal_type = animal_type\n",
    "        self.name = name\n",
    "        self.age = age\n",
    "    \n",
    "    def __len__(self):\n",
    "        print(f\"Імя має {len(self.name)} букв\")\n",
    "        return len(self.name)\n",
    "    \n",
    "    def __add__(self, add_var):\n",
    "        if isinstance(add_var, MyAnimals):\n",
    "            print(f\"Мій {self.name} подружився з {add_var.name}\")\n",
    "            return True\n",
    "    \n",
    "    def __sub__(self, add_var):\n",
    "        if isinstance(add_var, MyAnimals):\n",
    "            print(f\"Мій {self.name} покусав {add_var.name}\")\n",
    "            return False\n",
    "    \n",
    "    #def __mul__(self, add_var):\n",
    "    #    pass\n",
    "\n",
    "a = MyAnimals(\"Кіт\", \"Мурка\", 7)\n",
    "\n",
    "print(len(a))\n",
    "\n",
    "b = MyAnimals(\"Собака\", \"Мобік\", 2)\n",
    "\n",
    "print(a + b)\n",
    "\n",
    "print(a - b)\n",
    "\n",
    "a * b"
   ]
  }
 ],
 "metadata": {
  "kernelspec": {
   "display_name": "Python 3.10.6 64-bit",
   "language": "python",
   "name": "python3"
  },
  "language_info": {
   "codemirror_mode": {
    "name": "ipython",
    "version": 3
   },
   "file_extension": ".py",
   "mimetype": "text/x-python",
   "name": "python",
   "nbconvert_exporter": "python",
   "pygments_lexer": "ipython3",
   "version": "3.10.6"
  },
  "orig_nbformat": 4,
  "vscode": {
   "interpreter": {
    "hash": "8c8a4c94cfd8e62000f2ccc6a549f8b984365d44a61422e02822c65926c6da6f"
   }
  }
 },
 "nbformat": 4,
 "nbformat_minor": 2
}
