{
 "cells": [
  {
   "cell_type": "markdown",
   "metadata": {},
   "source": [
    "# Працюю з базовими типами даних"
   ]
  },
  {
   "cell_type": "code",
   "execution_count": 5,
   "metadata": {},
   "outputs": [
    {
     "name": "stdout",
     "output_type": "stream",
     "text": [
      "Це є тип стрічка Круто\n"
     ]
    }
   ],
   "source": [
    "this_is_variable = \"Це є тип стрічка\"\n",
    "var_2 = \"Круто\"\n",
    "print(this_is_variable, var_2)"
   ]
  },
  {
   "cell_type": "code",
   "execution_count": 7,
   "metadata": {},
   "outputs": [
    {
     "name": "stdout",
     "output_type": "stream",
     "text": [
      "14\n"
     ]
    }
   ],
   "source": [
    "a = 4\n",
    "b = 10\n",
    "print(a+b)"
   ]
  },
  {
   "cell_type": "code",
   "execution_count": 36,
   "metadata": {},
   "outputs": [
    {
     "name": "stdout",
     "output_type": "stream",
     "text": [
      "я виводжу змінну: 4 Далі буде текстова змінна: Круто\n",
      "я виводжу змінну: 4 Далі буде текстова змінна: Круто\n",
      "я виводжу змінну: 4 Далі буде текстова змінна: Круто\n",
      "я виводжу змінну: {a} Далі буде текстова змінна: {var_2}\n"
     ]
    }
   ],
   "source": [
    "print(\"я виводжу змінну:\", a, \"Далі буде текстова змінна:\", var_2)\n",
    "\n",
    "print(\"я виводжу змінну: \" + str(a) + \" Далі буде текстова змінна: \" + var_2)\n",
    "\n",
    "print(\"я виводжу змінну: {0} Далі буде текстова змінна: {1}\".format(a, var_2))\n",
    "\n",
    "print(f\"я виводжу змінну: {a} Далі буде текстова змінна: {var_2}\")"
   ]
  },
  {
   "cell_type": "code",
   "execution_count": 43,
   "metadata": {},
   "outputs": [
    {
     "name": "stdout",
     "output_type": "stream",
     "text": [
      "виводжу перший елемент ліста: 1\n",
      "Замінюємо елемент None\n",
      "Заміна\n",
      "<class 'list'>\n",
      "Видаляэмо елементи Сету 1\n",
      "Елементи після видалення{2, 5.5, 'asd'}\n"
     ]
    }
   ],
   "source": [
    "ll = [\"Стрічка\", 1 , 1.5 , [1.5], 1 ]\n",
    "print(f\"виводжу перший елемент ліста: {ll[1]}\")\n",
    "print(f\"Замінюємо елемент {ll.insert(1, 'Заміна')}\")\n",
    "print(ll[1])\n",
    "\n",
    "print(type(ll))\n",
    "\n",
    "\n",
    "\n",
    "ss = {\"asd\", 1 , 5.5, 1 , 2 , \"asd\"}\n",
    "print(f\"Видаляэмо елементи Сету {ss.pop()}\")\n",
    "print(f\"Елементи після видалення{ss}\")"
   ]
  },
  {
   "cell_type": "markdown",
   "metadata": {},
   "source": [
    "# Знайомлюсь з словниками"
   ]
  },
  {
   "cell_type": "code",
   "execution_count": 54,
   "metadata": {},
   "outputs": [
    {
     "name": "stdout",
     "output_type": "stream",
     "text": [
      "Це є <class 'dict'> і його елементи{'a': 'Богдан', 4: 'Стас'}\n",
      "Беремо елемент << a >>: Богдан та елемент << 4 >> Стас\n"
     ]
    }
   ],
   "source": [
    "dd = {\"a\": \"Богдан\", a: \"Стас\"}\n",
    "print(f\"Це є {type(dd)} і його елементи{dd}\")\n",
    "print(f\"Беремо елемент << a >>: {dd['a']} та елемент << {a} >> {dd[a]}\")"
   ]
  },
  {
   "cell_type": "code",
   "execution_count": 59,
   "metadata": {},
   "outputs": [
    {
     "name": "stdout",
     "output_type": "stream",
     "text": [
      "Пробує функцію type <class 'int'>\n",
      "створюємо сет за допомогою функції {1}\n",
      "Пробуємо константу True яка може бути схожою на змінну 1\n"
     ]
    },
    {
     "data": {
      "text/plain": [
       "2937511280976"
      ]
     },
     "execution_count": 59,
     "metadata": {},
     "output_type": "execute_result"
    }
   ],
   "source": [
    "from email import iterators\n",
    "\n",
    "\n",
    "print(f\"Пробує функцію type {type(a)}\")\n",
    "print(f\"створюємо сет за допомогою функції {set([1])}\")\n",
    "TrueS = 1\n",
    "print(f\"Пробуємо константу {True} яка може бути схожою на змінну {TrueS}\")\n",
    "\n",
    "id(a)"
   ]
  },
  {
   "cell_type": "markdown",
   "metadata": {},
   "source": [
    "## Робота з циклами\n",
    "- while\n",
    "- for"
   ]
  },
  {
   "cell_type": "code",
   "execution_count": 60,
   "metadata": {},
   "outputs": [
    {
     "name": "stdout",
     "output_type": "stream",
     "text": [
      "Ми виконуємо ітерацію 0\n",
      "Ми виконуємо ітерацію 1\n",
      "Ми виконуємо ітерацію 2\n",
      "Ми виконуємо ітерацію 3\n",
      "Ми виконуємо ітерацію 4\n",
      "Ми виконуємо ітерацію 5\n",
      "Закінчуємо цикл\n",
      "Ми виконуємо ітерацію 0\n",
      "Ми виконуємо ітерацію 1\n",
      "Ми виконуємо ітерацію 2\n",
      "Ми виконуємо ітерацію 3\n",
      "Ми виконуємо ітерацію 4\n",
      "Ми виконуємо ітерацію 5\n",
      "Закінчуємо цикл на значенні\n"
     ]
    }
   ],
   "source": [
    "i = 0\n",
    "while True:\n",
    "    print(f\"Ми виконуємо ітерацію {i}\")\n",
    "    i += 1\n",
    "    if i > 5:\n",
    "        print(\"Закінчуємо цикл\")\n",
    "        break\n",
    "\n",
    "i = 0\n",
    "while i <= 5:\n",
    "    print(f\"Ми виконуємо ітерацію {i}\")\n",
    "    i += 1\n",
    "else:\n",
    "    print(\"Закінчуємо цикл на значенні\",)"
   ]
  },
  {
   "cell_type": "code",
   "execution_count": 61,
   "metadata": {},
   "outputs": [
    {
     "name": "stdout",
     "output_type": "stream",
     "text": [
      "Ми виконуємо ітерацію 1\n",
      "Ми виконуємо ітерацію 2\n",
      "Значення 3 не буде виведено\n",
      "Ми виконуємо ітерацію 4\n",
      "Ми виконуємо ітерацію 5\n",
      "Ми виконуємо ітерацію 6\n"
     ]
    }
   ],
   "source": [
    "i = 0\n",
    "while i <= 5:\n",
    "    i += 1\n",
    "    if i == 3:\n",
    "        print(f\"Значення {i} не буде виведено\")\n",
    "        continue\n",
    "    print(f\"Ми виконуємо ітерацію {i}\")"
   ]
  },
  {
   "cell_type": "code",
   "execution_count": 62,
   "metadata": {},
   "outputs": [
    {
     "name": "stdout",
     "output_type": "stream",
     "text": [
      "50.0\n",
      "Беремо елемент 2 який знаходиться на позиції 0\n",
      "20.0\n",
      "Беремо елемент 5 який знаходиться на позиції 1\n",
      "40.0\n",
      "Беремо елемент 2.5 який знаходиться на позиції 2\n",
      "На нуль ділити не можна!\n",
      "Беремо елемент 0 який знаходиться на позиції 3\n",
      "16.666666666666668\n",
      "Беремо елемент 6 який знаходиться на позиції 4\n"
     ]
    }
   ],
   "source": [
    "li = [2, 5, 2.5, 0, 6]\n",
    "hh = \"На нуль ділити не можна!\"\n",
    "for i in li:\n",
    "    print(100/i if i != 0 else hh)\n",
    "    print(f\"Беремо елемент {i} який знаходиться на позиції {li.index(i)}\")"
   ]
  },
  {
   "cell_type": "code",
   "execution_count": 63,
   "metadata": {},
   "outputs": [
    {
     "name": "stdout",
     "output_type": "stream",
     "text": [
      "\n",
      "X~\n",
      "X~X~\n",
      "X~X~X~\n",
      "X~X~X~X~\n",
      "X~X~X~X~X~\n",
      "X~X~X~X~X~X~\n",
      "X~X~X~X~X~X~X~\n",
      "X~X~X~X~X~X~X~X~\n",
      "X~X~X~X~X~X~X~X~X~\n",
      "~X~X~X~X~X~X~X~X~X\n",
      "~X~X~X~X~X~X~X~X\n",
      "~X~X~X~X~X~X~X\n",
      "~X~X~X~X~X~X\n",
      "~X~X~X~X~X\n",
      "~X~X~X~X\n",
      "~X~X~X\n",
      "~X~X\n",
      "~X\n"
     ]
    }
   ],
   "source": [
    "for a in range(10):\n",
    "    print(a * \"X~\")\n",
    "\n",
    "for b in range(a):\n",
    "    print((a-b) * \"~X\")\n",
    "    "
   ]
  },
  {
   "cell_type": "markdown",
   "metadata": {},
   "source": [
    "# Працюємо з розгалуженнями"
   ]
  },
  {
   "cell_type": "code",
   "execution_count": 3,
   "metadata": {},
   "outputs": [
    {
     "name": "stdout",
     "output_type": "stream",
     "text": [
      ">> Ми на ітерації  0\n",
      "Ніяка умова не виконалась\n",
      ">> Завершення ітерації  0\n",
      ">> Ми на ітерації  1\n",
      "Ми зайшли в перше розгалуження 1\n",
      ">> Завершення ітерації  1\n",
      ">> Ми на ітерації  2\n",
      "Ніяка умова не виконалась\n",
      ">> Завершення ітерації  2\n",
      ">> Ми на ітерації  3\n",
      "Ми зайшли в друге розгалуження\n",
      ">> Завершення ітерації  3\n",
      ">> Ми на ітерації  4\n",
      "Ніяка умова не виконалась\n",
      ">> Завершення ітерації  4\n"
     ]
    }
   ],
   "source": [
    "for A in range(5):\n",
    "    print(\">> Ми на ітерації \", A)\n",
    "    if A == 1:\n",
    "        print(\"Ми зайшли в перше розгалуження\", A)\n",
    "    elif A == 3:\n",
    "        print(\"Ми зайшли в друге розгалуження\")\n",
    "    else:\n",
    "        print(\"Ніяка умова не виконалась\")\n",
    "    print(\">> Завершення ітерації \", A)"
   ]
  },
  {
   "cell_type": "code",
   "execution_count": 4,
   "metadata": {},
   "outputs": [
    {
     "name": "stdout",
     "output_type": "stream",
     "text": [
      "Значить A=True\n",
      "Значить A=True\n"
     ]
    }
   ],
   "source": [
    "A = True\n",
    "\n",
    "if A:\n",
    "    print(\"Значить A=True\")\n",
    "else:\n",
    "    print(\"Значить A=False\")\n",
    "\n",
    "print(\"Значить A=True\" if A else \"Значить A=False\")"
   ]
  },
  {
   "cell_type": "code",
   "execution_count": 8,
   "metadata": {},
   "outputs": [
    {
     "name": "stdout",
     "output_type": "stream",
     "text": [
      "Метод 1: 10.0\n",
      "Метод 1: 5.0\n",
      "Метод 1: 3.3333333333333335\n",
      "Метод 1: 2.5\n",
      "['Метод 2: 10.0', 'Метод 2: 5.0', 'Метод 2: 3.3333333333333335', 'Метод 2: 2.5']\n"
     ]
    }
   ],
   "source": [
    "for x in range(1, 5):\n",
    "    print(f\"Метод 1: {10 / x}\")\n",
    "\n",
    "print(list(f\"Метод 2: {10 / x}\" for x in range(1, 5)))"
   ]
  },
  {
   "cell_type": "markdown",
   "metadata": {},
   "source": [
    "### Робота з помилками "
   ]
  },
  {
   "cell_type": "code",
   "execution_count": 14,
   "metadata": {},
   "outputs": [
    {
     "name": "stdout",
     "output_type": "stream",
     "text": [
      "ss1\n"
     ]
    }
   ],
   "source": [
    "A = \"ss\" + str(1) # Ми перевели цифру в стрічку\n",
    "print(A)"
   ]
  },
  {
   "cell_type": "code",
   "execution_count": 82,
   "metadata": {},
   "outputs": [
    {
     "name": "stdout",
     "output_type": "stream",
     "text": [
      "2\n",
      "Що буде якщо 5.0 ?\n",
      "Тут сталась наша помилка >> Це наша помилка, яка буде завжди\n",
      "А вот воно що!\n"
     ]
    }
   ],
   "source": [
    "from random import choice\n",
    "\n",
    "A = choice(range(5))\n",
    "print(A)\n",
    "\n",
    "try:\n",
    "    print(\"Що буде якщо\", 10/A, \"?\")\n",
    "    raise TypeError(\"Це наша помилка, яка буде завжди\")\n",
    "except ZeroDivisionError as e:\n",
    "    print(\"У нас сталась помилка >>\", e)\n",
    "    print(\"Ми нe можемо ділити на \", A )\n",
    "except TypeError as e:\n",
    "    print(\"Тут сталась наша помилка >>\", e)\n",
    "finally:\n",
    "    print(\"А вот воно що!\")\n",
    "\n"
   ]
  },
  {
   "cell_type": "markdown",
   "metadata": {},
   "source": [
    "### Робота з контекст-менеджерами"
   ]
  },
  {
   "cell_type": "code",
   "execution_count": 91,
   "metadata": {},
   "outputs": [
    {
     "name": "stdout",
     "output_type": "stream",
     "text": [
      "First line\n",
      "\n",
      "First line\n",
      "\n"
     ]
    },
    {
     "ename": "ValueError",
     "evalue": "I/O operation on closed file.",
     "output_type": "error",
     "traceback": [
      "\u001b[1;31m---------------------------------------------------------------------------\u001b[0m",
      "\u001b[1;31mValueError\u001b[0m                                Traceback (most recent call last)",
      "\u001b[1;32me:\\lab\\bakayev-tks24\\2_lab\\lab.ipynb Ячейка 22\u001b[0m in \u001b[0;36m<cell line: 8>\u001b[1;34m()\u001b[0m\n\u001b[0;32m      <a href='vscode-notebook-cell:/e%3A/lab/bakayev-tks24/2_lab/lab.ipynb#X31sZmlsZQ%3D%3D?line=4'>5</a>\u001b[0m \u001b[39mwith\u001b[39;00m \u001b[39mopen\u001b[39m(\u001b[39m\"\u001b[39m\u001b[39mtext.txt\u001b[39m\u001b[39m\"\u001b[39m, \u001b[39m\"\u001b[39m\u001b[39mr\u001b[39m\u001b[39m\"\u001b[39m) \u001b[39mas\u001b[39;00m f:\n\u001b[0;32m      <a href='vscode-notebook-cell:/e%3A/lab/bakayev-tks24/2_lab/lab.ipynb#X31sZmlsZQ%3D%3D?line=5'>6</a>\u001b[0m     \u001b[39mprint\u001b[39m(f\u001b[39m.\u001b[39mreadline())\n\u001b[1;32m----> <a href='vscode-notebook-cell:/e%3A/lab/bakayev-tks24/2_lab/lab.ipynb#X31sZmlsZQ%3D%3D?line=7'>8</a>\u001b[0m \u001b[39mprint\u001b[39m(f\u001b[39m.\u001b[39;49mreadline())\n",
      "\u001b[1;31mValueError\u001b[0m: I/O operation on closed file."
     ]
    }
   ],
   "source": [
    "f = open(\"text.txt\", \"r\")\n",
    "print(f.readline())\n",
    "f.close()\n",
    "\n",
    "with open(\"text.txt\", \"r\") as f:\n",
    "    print(f.readline())\n",
    "    \n",
    "print(f.readline())\n"
   ]
  },
  {
   "cell_type": "markdown",
   "metadata": {},
   "source": [
    "### Робота з лямдами"
   ]
  },
  {
   "cell_type": "code",
   "execution_count": 105,
   "metadata": {},
   "outputs": [
    {
     "name": "stdout",
     "output_type": "stream",
     "text": [
      "The Zen of Python, by Tim Peters\n",
      "\n",
      "Beautiful is better than ugly.\n",
      "Explicit is better than implicit.\n",
      "Simple is better than complex.\n",
      "Complex is better than complicated.\n",
      "Flat is better than nested.\n",
      "Sparse is better than dense.\n",
      "Readability counts.\n",
      "Special cases aren't special enough to break the rules.\n",
      "Although practicality beats purity.\n",
      "Errors should never pass silently.\n",
      "Unless explicitly silenced.\n",
      "In the face of ambiguity, refuse the temptation to guess.\n",
      "There should be one-- and preferably only one --obvious way to do it.\n",
      "Although that way may not be obvious at first unless you're Dutch.\n",
      "Now is better than never.\n",
      "Although never is often better than *right* now.\n",
      "If the implementation is hard to explain, it's a bad idea.\n",
      "If the implementation is easy to explain, it may be a good idea.\n",
      "Namespaces are one honking great idea -- let's do more of those!\n",
      "Це є функція >> <function my_name at 0x0000021CE9BCAB00>\n",
      "Я викликаю функцію >> Моє ім`я Роман та призвіще Бакаєв\n",
      "<function my_name at 0x0000021CE9BCAB00> Моє ім`я Роман та призвіще Бакаєв\n",
      "Це просто функція: <function <lambda> at 0x0000021CE9BCA680>\n",
      "Це її виклик: Моє ім`я Роман та призвіще Бакаєв\n"
     ]
    }
   ],
   "source": [
    "import this\n",
    "\n",
    "\n",
    "def my_name(first, last):\n",
    "    return f\"Моє ім`я {first} та призвіще {last}\"\n",
    "\n",
    "print(\"Це є функція >>\", my_name)\n",
    "print(\"Я викликаю функцію >>\", my_name(\"Роман\", \"Бакаєв\"))\n",
    "\n",
    "this_is_functio = my_name\n",
    "\n",
    "print(this_is_functio, this_is_functio('Роман','Бакаєв'))\n",
    "\n",
    "this_is_lambda = lambda first, last: f\"Моє ім`я {first} та призвіще {last}\"\n",
    "print(\"Це просто функція:\", this_is_lambda)\n",
    "print(\"Це її виклик:\", this_is_lambda('Роман','Бакаєв'))"
   ]
  }
 ],
 "metadata": {
  "kernelspec": {
   "display_name": "Python 3.10.6 64-bit",
   "language": "python",
   "name": "python3"
  },
  "language_info": {
   "codemirror_mode": {
    "name": "ipython",
    "version": 3
   },
   "file_extension": ".py",
   "mimetype": "text/x-python",
   "name": "python",
   "nbconvert_exporter": "python",
   "pygments_lexer": "ipython3",
   "version": "3.10.6"
  },
  "orig_nbformat": 4,
  "vscode": {
   "interpreter": {
    "hash": "8c8a4c94cfd8e62000f2ccc6a549f8b984365d44a61422e02822c65926c6da6f"
   }
  }
 },
 "nbformat": 4,
 "nbformat_minor": 2
}
